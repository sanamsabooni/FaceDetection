{
 "cells": [
  {
   "cell_type": "code",
   "execution_count": null,
   "id": "185c6128",
   "metadata": {},
   "outputs": [],
   "source": [
    "# importing Libraries\n",
    "%matplotlib inline\n",
    "import matplotlib.pyplot as plt\n",
    "import seaborn as sns; sns.set()\n",
    "import numpy as np"
   ]
  },
  {
   "cell_type": "code",
   "execution_count": null,
   "id": "c860230e",
   "metadata": {},
   "outputs": [],
   "source": [
    "#Histogram Of Gradients feature\n",
    "from skimage import data, color, feature\n",
    "import skimage.data\n",
    "\n",
    "image = color.rgb2gray(data.chelsea())\n",
    "hog_vec, hog_vis = feature.hog(image, visualise=True)\n",
    "\n",
    "fig, ax = plt.subplots(1, 2, figsize=(12, 6),\n",
    "                       subplot_kw=dict(xticks=[], yticks=[]))\n",
    "ax[0].imshow(image, cmap='gray')\n",
    "ax[0].set_title('input image')\n",
    "\n",
    "ax[1].imshow(hog_vis)\n",
    "ax[1].set_title('visualization of HOG features');"
   ]
  }
 ],
 "metadata": {
  "kernelspec": {
   "display_name": "Python 3",
   "language": "python",
   "name": "python3"
  },
  "language_info": {
   "codemirror_mode": {
    "name": "ipython",
    "version": 3
   },
   "file_extension": ".py",
   "mimetype": "text/x-python",
   "name": "python",
   "nbconvert_exporter": "python",
   "pygments_lexer": "ipython3",
   "version": "3.9.4"
  }
 },
 "nbformat": 4,
 "nbformat_minor": 5
}
